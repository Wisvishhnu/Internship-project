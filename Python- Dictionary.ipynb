{
 "cells": [
  {
   "cell_type": "markdown",
   "id": "17acfd99",
   "metadata": {},
   "source": [
    "Dictionary"
   ]
  },
  {
   "cell_type": "code",
   "execution_count": 1,
   "id": "e894d7ec",
   "metadata": {},
   "outputs": [],
   "source": [
    "Employee_data = {\n",
    "    \"John Doe\": {\n",
    "        \"age\": 30, \"salary\": 50000, \"department\": \"Engineering\"\n",
    "    }, \n",
    "    \"Jane Smith\": {\n",
    "        \"age\": 25, \"salary\": 60000, \"department\": \"Marketing\"\n",
    "    }, \n",
    "    \"Alice Johnson\": {\n",
    "        \"age\": 28, \"salary\": 70000, \"department\": \"Sales\"\n",
    "    },\n",
    "    \"Sam Brown\": {\n",
    "        \"age\": 35, \"salary\": 80000, \"department\": \"HR\"\n",
    "    }\n",
    "}\n",
    "\n"
   ]
  },
  {
   "cell_type": "code",
   "execution_count": 2,
   "id": "8180b0d1",
   "metadata": {},
   "outputs": [
    {
     "data": {
      "text/plain": [
       "50000"
      ]
     },
     "execution_count": 2,
     "metadata": {},
     "output_type": "execute_result"
    }
   ],
   "source": [
    "Employee_data.get(\"John Doe\", {}).get(\"salary\", \"Not Found\")"
   ]
  },
  {
   "cell_type": "code",
   "execution_count": 3,
   "id": "ac07008e",
   "metadata": {},
   "outputs": [
    {
     "data": {
      "text/plain": [
       "['John Doe', 'Jane Smith', 'Alice Johnson', 'Sam Brown']"
      ]
     },
     "execution_count": 3,
     "metadata": {},
     "output_type": "execute_result"
    }
   ],
   "source": [
    "a = list(Employee_data.keys())\n",
    "a"
   ]
  },
  {
   "cell_type": "code",
   "execution_count": 4,
   "id": "acf56f85",
   "metadata": {},
   "outputs": [
    {
     "data": {
      "text/plain": [
       "dict_values([{'age': 30, 'salary': 50000, 'department': 'Engineering'}, {'age': 25, 'salary': 60000, 'department': 'Marketing'}, {'age': 28, 'salary': 70000, 'department': 'Sales'}, {'age': 35, 'salary': 80000, 'department': 'HR'}])"
      ]
     },
     "execution_count": 4,
     "metadata": {},
     "output_type": "execute_result"
    }
   ],
   "source": [
    "Employee_data.values()"
   ]
  },
  {
   "cell_type": "code",
   "execution_count": 5,
   "id": "86a0728a",
   "metadata": {},
   "outputs": [
    {
     "data": {
      "text/plain": [
       "dict_items([('John Doe', {'age': 30, 'salary': 50000, 'department': 'Engineering'}), ('Jane Smith', {'age': 25, 'salary': 60000, 'department': 'Marketing'}), ('Alice Johnson', {'age': 28, 'salary': 70000, 'department': 'Sales'}), ('Sam Brown', {'age': 35, 'salary': 80000, 'department': 'HR'})])"
      ]
     },
     "execution_count": 5,
     "metadata": {},
     "output_type": "execute_result"
    }
   ],
   "source": [
    "Employee_data.items()"
   ]
  },
  {
   "cell_type": "code",
   "execution_count": 6,
   "id": "12189d0b",
   "metadata": {},
   "outputs": [
    {
     "data": {
      "text/plain": [
       "{'John Doe': {'age': 30, 'salary': 50000, 'department': 'Engineering'},\n",
       " 'Jane Smith': {'age': 25, 'salary': 60000, 'department': 'Marketing'},\n",
       " 'Alice Johnson': {'age': 28, 'salary': 70000, 'department': 'Sales'},\n",
       " 'Sam Brown': {'age': 35, 'salary': 80000, 'department': 'HR'},\n",
       " 'Bob White': {'age': 40, 'salary': 90000, 'department': 'Finance'},\n",
       " 'Sarang Dev': {'age': 22, 'salary': 30000, 'department': 'Intern'}}"
      ]
     },
     "execution_count": 6,
     "metadata": {},
     "output_type": "execute_result"
    }
   ],
   "source": [
    "nw_data = {\"Bob White\": {\"age\": 40, \"salary\": 90000, \"department\": \"Finance\"}, \"Sarang Dev\": {\"age\": 22, \"salary\": 30000, \"department\": \"Intern\"}}\n",
    "Employee_data.update(nw_data)\n",
    "Employee_data"
   ]
  },
  {
   "cell_type": "code",
   "execution_count": 7,
   "id": "f6d9f2c5",
   "metadata": {},
   "outputs": [
    {
     "data": {
      "text/plain": [
       "{'a', 'b', 'c'}"
      ]
     },
     "execution_count": 7,
     "metadata": {},
     "output_type": "execute_result"
    }
   ],
   "source": [
    "abc = ['a','b','c','a']\n",
    "abc = set(abc)\n",
    "abc"
   ]
  },
  {
   "cell_type": "code",
   "execution_count": 8,
   "id": "24635a66",
   "metadata": {},
   "outputs": [
    {
     "data": {
      "text/plain": [
       "{'age': 40, 'salary': 90000, 'department': 'Finance'}"
      ]
     },
     "execution_count": 8,
     "metadata": {},
     "output_type": "execute_result"
    }
   ],
   "source": [
    "Employee_data[\"Bob White\"]"
   ]
  },
  {
   "cell_type": "code",
   "execution_count": 9,
   "id": "5e4a6443",
   "metadata": {},
   "outputs": [
    {
     "name": "stdout",
     "output_type": "stream",
     "text": [
      "Frequency of each character in the word /Banana :\n",
      "/ : 1\n",
      "B : 1\n",
      "a : 3\n",
      "n : 2\n"
     ]
    }
   ],
   "source": [
    "#Frequency of characters in a string.\n",
    "\n",
    "word = input(\"Enter a word: \")\n",
    "frequency ={}\n",
    "\n",
    "for i in word:\n",
    "    if i in frequency:\n",
    "        frequency[i]+=1\n",
    "    else:\n",
    "        frequency[i] = 1\n",
    "\n",
    "print(\"Frequency of each character in the word\", word, \":\")\n",
    "\n",
    "for key,value in frequency.items():\n",
    "    print(key, \":\", value)\n"
   ]
  },
  {
   "cell_type": "code",
   "execution_count": 10,
   "id": "bda01bf5",
   "metadata": {},
   "outputs": [
    {
     "name": "stdout",
     "output_type": "stream",
     "text": [
      "Frequency of each character in the word Bnanaa :\n",
      "B : 1\n",
      "n : 2\n",
      "a : 3\n"
     ]
    }
   ],
   "source": [
    "word = input(\"Enter a word: \")\n",
    "frequency ={}\n",
    "\n",
    "for char in word:\n",
    "    frequency[char] = frequency.get(char, 0) + 1\n",
    "\n",
    "print(\"Frequency of each character in the word\", word, \":\")\n",
    "\n",
    "for key,value in frequency.items():\n",
    "    print(key, \":\", value)\n",
    "\n"
   ]
  },
  {
   "cell_type": "code",
   "execution_count": null,
   "id": "fde1f2be",
   "metadata": {},
   "outputs": [],
   "source": [
    "#given 2 strings s1,s2. check if replacementof some characters in s1 can make it equal to s2.\n",
    "\n",
    "S1 = input(\"Enter first string: \")\n",
    "S2 = input(\"Enter second string: \")\n",
    "\n",
    "if len(S1) != len(S2):\n",
    "    print(\"Strings are not equal\")  \n",
    "else:"
   ]
  }
 ],
 "metadata": {
  "kernelspec": {
   "display_name": "Python 3",
   "language": "python",
   "name": "python3"
  },
  "language_info": {
   "codemirror_mode": {
    "name": "ipython",
    "version": 3
   },
   "file_extension": ".py",
   "mimetype": "text/x-python",
   "name": "python",
   "nbconvert_exporter": "python",
   "pygments_lexer": "ipython3",
   "version": "3.13.2"
  }
 },
 "nbformat": 4,
 "nbformat_minor": 5
}
